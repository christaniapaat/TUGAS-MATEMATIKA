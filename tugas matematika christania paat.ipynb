{
 "cells": [
  {
   "cell_type": "code",
   "execution_count": 2,
   "metadata": {},
   "outputs": [
    {
     "name": "stdout",
     "output_type": "stream",
     "text": [
      "CHRISTANIA F. 17021106100\n",
      "TUTORIAL\n"
     ]
    }
   ],
   "source": [
    "print(\"CHRISTANIA F. 17021106100\")\n",
    "print(\"TUTORIAL\")"
   ]
  },
  {
   "cell_type": "code",
   "execution_count": 5,
   "metadata": {},
   "outputs": [
    {
     "name": "stdout",
     "output_type": "stream",
     "text": [
      "Pertama kita harus memasukkan perintah untuk program agar bisa membaca modul yang akan dibuat nanti. Perintah yang kita  masukkan dibawah adalah sympy atau python simbol untuk matematika. dan untuk informasi SELALU PERHATIKAN TITIK ATAUPUN KOMA,   HURUF BESAR DAN HURUF KECIL KARNA BISA MEMPENGARUHI.\n"
     ]
    }
   ],
   "source": [
    "print(\"Pertama kita harus memasukkan perintah untuk program agar bisa membaca modul yang akan dibuat nanti. Perintah yang kita  masukkan dibawah adalah sympy atau python simbol untuk matematika. dan untuk informasi SELALU PERHATIKAN TITIK ATAUPUN KOMA,   HURUF BESAR DAN HURUF KECIL KARNA BISA MEMPENGARUHI.\")"
   ]
  },
  {
   "cell_type": "code",
   "execution_count": 28,
   "metadata": {},
   "outputs": [],
   "source": [
    "import sympy\n",
    "from sympy import limit\n",
    "from sympy.abc import x"
   ]
  },
  {
   "cell_type": "code",
   "execution_count": 31,
   "metadata": {},
   "outputs": [
    {
     "name": "stdout",
     "output_type": "stream",
     "text": [
      "Masukkan soal yang diberikan, karna ini soal matematika limit maka harus menambahkan kode limit agar bisa dibaca system. Juga, untuk membuat soal dengan (- atau per) kita harus menaruh kode (/) dan untuk pangkat harus menaruh (**)\n"
     ]
    }
   ],
   "source": [
    "print(\"Masukkan soal yang diberikan, karna ini soal matematika limit maka harus menambahkan kode limit agar bisa dibaca system. Juga, untuk membuat soal dengan (- atau per) kita harus menaruh kode (/) dan untuk pangkat harus menaruh (**)\")"
   ]
  },
  {
   "cell_type": "code",
   "execution_count": 32,
   "metadata": {},
   "outputs": [
    {
     "name": "stdout",
     "output_type": "stream",
     "text": [
      "1\n"
     ]
    },
    {
     "data": {
      "image/png": "[encoded data removed]",
      "text/latex": [
       "$\\displaystyle \\frac{3}{8}$"
      ],
      "text/plain": [
       "3/8"
      ]
     },
     "execution_count": 32,
     "metadata": {},
     "output_type": "execute_result"
    }
   ],
   "source": [
    "print(\"1\")\n",
    "limit((2*x**2+x-15)/(x**2+7*x+12),x,4)"
   ]
  },
  {
   "cell_type": "code",
   "execution_count": 33,
   "metadata": {},
   "outputs": [
    {
     "name": "stdout",
     "output_type": "stream",
     "text": [
      "2\n"
     ]
    },
    {
     "data": {
      "image/png": "[encoded data removed]",
      "text/latex": [
       "$\\displaystyle 2$"
      ],
      "text/plain": [
       "2"
      ]
     },
     "execution_count": 33,
     "metadata": {},
     "output_type": "execute_result"
    }
   ],
   "source": [
    "print(\"2\")\n",
    "limit((3*x**2-14*x+8)/(x**2-3*x-4),x,4)"
   ]
  },
  {
   "cell_type": "code",
   "execution_count": 34,
   "metadata": {},
   "outputs": [
    {
     "name": "stdout",
     "output_type": "stream",
     "text": [
      "3\n"
     ]
    },
    {
     "data": {
      "image/png": "[encoded data removed]",
      "text/latex": [
       "$\\displaystyle - \\frac{1}{6}$"
      ],
      "text/plain": [
       "-1/6"
      ]
     },
     "execution_count": 34,
     "metadata": {},
     "output_type": "execute_result"
    }
   ],
   "source": [
    "print(\"3\")\n",
    "limit((x**2-5*x+6)/(x**2+2*x-8),x,2)"
   ]
  },
  {
   "cell_type": "code",
   "execution_count": 36,
   "metadata": {},
   "outputs": [
    {
     "name": "stdout",
     "output_type": "stream",
     "text": [
      "4\n"
     ]
    },
    {
     "data": {
      "image/png": "[encoded data removed]",
      "text/latex": [
       "$\\displaystyle \\frac{6}{5}$"
      ],
      "text/plain": [
       "6/5"
      ]
     },
     "execution_count": 36,
     "metadata": {},
     "output_type": "execute_result"
    }
   ],
   "source": [
    "print(\"4\")\n",
    "limit((x**2-9)/(x**2-x-6),x,3)"
   ]
  },
  {
   "cell_type": "code",
   "execution_count": 38,
   "metadata": {},
   "outputs": [
    {
     "name": "stdout",
     "output_type": "stream",
     "text": [
      "Untuk tugas ke-2 saya menggunakan function sym.init_printing untuk mendapatkan hasil printing yang paling baik. Lalu, taruh perintah untuk bisa membaca symbol dari rumus limit dan juga menambahkan rumusnya yaitu sym.Limit(1/x,x,sym.oo)\n"
     ]
    }
   ],
   "source": [
    "print(\"Untuk tugas ke-2 saya menggunakan function sym.init_printing untuk mendapatkan hasil printing yang paling baik. Lalu, taruh perintah untuk bisa membaca symbol dari rumus limit dan juga menambahkan rumusnya yaitu sym.Limit(1/x,x,sym.oo)\")"
   ]
  },
  {
   "cell_type": "code",
   "execution_count": 39,
   "metadata": {},
   "outputs": [
    {
     "data": {
      "image/png": "[encoded data removed]",
      "text/latex": [
       "$\\displaystyle \\lim_{x \\to \\infty} \\frac{1}{x}$"
      ],
      "text/plain": [
       "    1\n",
       "lim ─\n",
       "x─→∞x"
      ]
     },
     "execution_count": 39,
     "metadata": {},
     "output_type": "execute_result"
    }
   ],
   "source": [
    "import sympy as sym\n",
    "sym.init_printing()\n",
    "x = sym.symbols('x')\n",
    "\n",
    "sym.Limit (1 / x, x, sym.oo)"
   ]
  },
  {
   "cell_type": "code",
   "execution_count": 40,
   "metadata": {},
   "outputs": [
    {
     "name": "stdout",
     "output_type": "stream",
     "text": [
      "grup 1\n"
     ]
    },
    {
     "data": {
      "image/png": "[encoded data removed]",
      "text/latex": [
       "$\\displaystyle \\lim_{x \\to 1^+}\\left(\\frac{x^{2} - 1}{x - 1}\\right)$"
      ],
      "text/plain": [
       "     ⎛ 2    ⎞\n",
       "     ⎜x  - 1⎟\n",
       " lim ⎜──────⎟\n",
       "x─→1⁺⎝x - 1 ⎠"
      ]
     },
     "execution_count": 40,
     "metadata": {},
     "output_type": "execute_result"
    }
   ],
   "source": [
    "print(\"grup 1\")\n",
    "sym.Limit ((x**2-1)/ (x-1) ,x,1)"
   ]
  },
  {
   "cell_type": "code",
   "execution_count": 42,
   "metadata": {},
   "outputs": [
    {
     "name": "stdout",
     "output_type": "stream",
     "text": [
      "jawaban\n"
     ]
    },
    {
     "data": {
      "image/png": "[encoded data removed]",
      "text/latex": [
       "$\\displaystyle 2$"
      ],
      "text/plain": [
       "2"
      ]
     },
     "execution_count": 42,
     "metadata": {},
     "output_type": "execute_result"
    }
   ],
   "source": [
    "print(\"jawaban\")\n",
    "sym.Limit((x**2-1)/(x-1),x,1).doit()"
   ]
  },
  {
   "cell_type": "code",
   "execution_count": 43,
   "metadata": {},
   "outputs": [],
   "source": [
    "import sympy as sym\n",
    "sym.init_printing()\n",
    "a, b, x, y, z, t, w, = sym.symbols('a b x y z t w')"
   ]
  },
  {
   "cell_type": "code",
   "execution_count": 44,
   "metadata": {},
   "outputs": [
    {
     "name": "stdout",
     "output_type": "stream",
     "text": [
      "Untuk tugas ke-3 adalah tugas Integral maka jangan lupa menambah kode Integral yah!!\n"
     ]
    }
   ],
   "source": [
    "print(\"Untuk tugas ke-3 adalah tugas Integral maka jangan lupa menambah kode Integral yah!!\")"
   ]
  },
  {
   "cell_type": "code",
   "execution_count": 12,
   "metadata": {},
   "outputs": [
    {
     "name": "stdout",
     "output_type": "stream",
     "text": [
      "1\n"
     ]
    },
    {
     "data": {
      "image/png": "[encoded data removed]",
      "text/latex": [
       "$\\displaystyle \\int \\left(4 x^{6} - 2 x^{3} + 7 x - 4\\right)\\, dx$"
      ],
      "text/plain": [
       "⌠                           \n",
       "⎮ ⎛   6      3          ⎞   \n",
       "⎮ ⎝4⋅x  - 2⋅x  + 7⋅x - 4⎠ dx\n",
       "⌡                           "
      ]
     },
     "execution_count": 12,
     "metadata": {},
     "output_type": "execute_result"
    }
   ],
   "source": [
    "print ('1')\n",
    "sym.Integral (4*x**6-2*x**3+7*x-4)"
   ]
  },
  {
   "cell_type": "code",
   "execution_count": 13,
   "metadata": {},
   "outputs": [
    {
     "name": "stdout",
     "output_type": "stream",
     "text": [
      "Jawaban\n"
     ]
    },
    {
     "data": {
      "image/png": "[encoded data removed]",
      "text/latex": [
       "$\\displaystyle \\frac{4 x^{7}}{7} - \\frac{x^{4}}{2} + \\frac{7 x^{2}}{2} - 4 x$"
      ],
      "text/plain": [
       "   7    4      2      \n",
       "4⋅x    x    7⋅x       \n",
       "──── - ── + ──── - 4⋅x\n",
       " 7     2     2        "
      ]
     },
     "execution_count": 13,
     "metadata": {},
     "output_type": "execute_result"
    }
   ],
   "source": [
    "print ('Jawaban')\n",
    "sym.integrate (4*x**6-2*x**3+7*x-4)"
   ]
  },
  {
   "cell_type": "code",
   "execution_count": 14,
   "metadata": {},
   "outputs": [
    {
     "name": "stdout",
     "output_type": "stream",
     "text": [
      "6\n"
     ]
    },
    {
     "data": {
      "image/png": "[encoded data removed]",
      "text/latex": [
       "$\\displaystyle 2 w^{\\frac{3}{2}} + 4 w \\sqrt{w^{3}}$"
      ],
      "text/plain": [
       "                ____\n",
       "   3/2         ╱  3 \n",
       "2⋅w    + 4⋅w⋅╲╱  w  "
      ]
     },
     "execution_count": 14,
     "metadata": {},
     "output_type": "execute_result"
    }
   ],
   "source": [
    "print ('6')\n",
    "sym.integrate (3*sym.sqrt(w)+10*sym.sqrt(w**3))"
   ]
  },
  {
   "cell_type": "code",
   "execution_count": 15,
   "metadata": {},
   "outputs": [
    {
     "name": "stdout",
     "output_type": "stream",
     "text": [
      "11\n"
     ]
    },
    {
     "data": {
      "image/png": "[encoded data removed]",
      "text/latex": [
       "$\\displaystyle \\int \\sqrt{z} \\left(z^{2} - \\frac{1}{4 z}\\right)\\, dz$"
      ],
      "text/plain": [
       "⌠                 \n",
       "⎮    ⎛ 2    1 ⎞   \n",
       "⎮ √z⋅⎜z  - ───⎟ dz\n",
       "⎮    ⎝     4⋅z⎠   \n",
       "⌡                 "
      ]
     },
     "execution_count": 15,
     "metadata": {},
     "output_type": "execute_result"
    }
   ],
   "source": [
    "print ('11')\n",
    "sym.Integral (sym.sqrt(z)*(z**2-1/(4*z)))"
   ]
  },
  {
   "cell_type": "code",
   "execution_count": 16,
   "metadata": {},
   "outputs": [
    {
     "name": "stdout",
     "output_type": "stream",
     "text": [
      "11\n"
     ]
    },
    {
     "data": {
      "image/png": "[encoded data removed]",
      "text/latex": [
       "$\\displaystyle \\frac{2 z^{\\frac{7}{2}}}{7} - \\frac{\\sqrt{z}}{2}$"
      ],
      "text/plain": [
       "   7/2     \n",
       "2⋅z      √z\n",
       "────── - ──\n",
       "  7      2 "
      ]
     },
     "execution_count": 16,
     "metadata": {},
     "output_type": "execute_result"
    }
   ],
   "source": [
    "print ('11')\n",
    "sym.integrate (sym.sqrt(z)*(z**2-1/(4*z)))"
   ]
  },
  {
   "cell_type": "code",
   "execution_count": 18,
   "metadata": {},
   "outputs": [
    {
     "name": "stdout",
     "output_type": "stream",
     "text": [
      "16\n"
     ]
    },
    {
     "ename": "NameError",
     "evalue": "name 'csc' is not defined",
     "output_type": "error",
     "traceback": [
      "\u001b[1;31m---------------------------------------------------------------------------\u001b[0m",
      "\u001b[1;31mNameError\u001b[0m                                 Traceback (most recent call last)",
      "\u001b[1;32m<ipython-input-18-9af0e29c5f5d>\u001b[0m in \u001b[0;36m<module>\u001b[1;34m\u001b[0m\n\u001b[0;32m      1\u001b[0m \u001b[0mprint\u001b[0m \u001b[1;33m(\u001b[0m\u001b[1;34m'16'\u001b[0m\u001b[1;33m)\u001b[0m\u001b[1;33m\u001b[0m\u001b[1;33m\u001b[0m\u001b[0m\n\u001b[1;32m----> 2\u001b[1;33m \u001b[0msym\u001b[0m\u001b[1;33m.\u001b[0m\u001b[0mIntegral\u001b[0m \u001b[1;33m(\u001b[0m\u001b[1;36m12\u001b[0m \u001b[1;33m+\u001b[0m \u001b[0mcsc\u001b[0m\u001b[1;33m(\u001b[0m\u001b[0mx\u001b[0m\u001b[1;33m)\u001b[0m\u001b[1;33m*\u001b[0m\u001b[1;33m(\u001b[0m\u001b[0msin\u001b[0m\u001b[1;33m(\u001b[0m\u001b[0mx\u001b[0m\u001b[1;33m)\u001b[0m\u001b[1;33m+\u001b[0m\u001b[0mcsc\u001b[0m\u001b[1;33m(\u001b[0m\u001b[0mx\u001b[0m\u001b[1;33m)\u001b[0m\u001b[1;33m)\u001b[0m\u001b[1;33m)\u001b[0m\u001b[1;33m\u001b[0m\u001b[1;33m\u001b[0m\u001b[0m\n\u001b[0m",
      "\u001b[1;31mNameError\u001b[0m: name 'csc' is not defined"
     ]
    }
   ],
   "source": [
    "print ('16')\n",
    "sym.Integral (12 + csc(x)*(sin(x)+csc(x)))"
   ]
  },
  {
   "cell_type": "code",
   "execution_count": 19,
   "metadata": {},
   "outputs": [
    {
     "name": "stdout",
     "output_type": "stream",
     "text": [
      "16\n"
     ]
    },
    {
     "ename": "NameError",
     "evalue": "name 'csc' is not defined",
     "output_type": "error",
     "traceback": [
      "\u001b[1;31m---------------------------------------------------------------------------\u001b[0m",
      "\u001b[1;31mNameError\u001b[0m                                 Traceback (most recent call last)",
      "\u001b[1;32m<ipython-input-19-6e87f6a9a1de>\u001b[0m in \u001b[0;36m<module>\u001b[1;34m\u001b[0m\n\u001b[0;32m      1\u001b[0m \u001b[0mprint\u001b[0m \u001b[1;33m(\u001b[0m\u001b[1;34m'16'\u001b[0m\u001b[1;33m)\u001b[0m\u001b[1;33m\u001b[0m\u001b[1;33m\u001b[0m\u001b[0m\n\u001b[1;32m----> 2\u001b[1;33m \u001b[0msym\u001b[0m\u001b[1;33m.\u001b[0m\u001b[0mintegrate\u001b[0m \u001b[1;33m(\u001b[0m\u001b[1;36m12\u001b[0m \u001b[1;33m+\u001b[0m \u001b[0mcsc\u001b[0m\u001b[1;33m(\u001b[0m\u001b[0mx\u001b[0m\u001b[1;33m)\u001b[0m\u001b[1;33m*\u001b[0m\u001b[1;33m(\u001b[0m\u001b[0msin\u001b[0m\u001b[1;33m(\u001b[0m\u001b[0mx\u001b[0m\u001b[1;33m)\u001b[0m\u001b[1;33m+\u001b[0m\u001b[0mcsc\u001b[0m\u001b[1;33m(\u001b[0m\u001b[0mx\u001b[0m\u001b[1;33m)\u001b[0m\u001b[1;33m)\u001b[0m\u001b[1;33m)\u001b[0m\u001b[1;33m\u001b[0m\u001b[1;33m\u001b[0m\u001b[0m\n\u001b[0m",
      "\u001b[1;31mNameError\u001b[0m: name 'csc' is not defined"
     ]
    }
   ],
   "source": [
    "print ('16')\n",
    "sym.integrate (12 + csc(x)*(sin(x)+csc(x)))"
   ]
  },
  {
   "cell_type": "code",
   "execution_count": null,
   "metadata": {},
   "outputs": [],
   "source": []
  }
 ],
 "metadata": {
  "kernelspec": {
   "display_name": "Python 3",
   "language": "python",
   "name": "python3"
  },
  "language_info": {
   "codemirror_mode": {
    "name": "ipython",
    "version": 3
   },
   "file_extension": ".py",
   "mimetype": "text/x-python",
   "name": "python",
   "nbconvert_exporter": "python",
   "pygments_lexer": "ipython3",
   "version": "3.7.3"
  }
 },
 "nbformat": 4,
 "nbformat_minor": 2
}
